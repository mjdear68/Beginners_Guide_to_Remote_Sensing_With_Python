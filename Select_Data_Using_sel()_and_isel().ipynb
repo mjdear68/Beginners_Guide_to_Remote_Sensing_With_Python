{
 "cells": [
  {
   "cell_type": "markdown",
   "id": "461d4b43-9b90-433d-9911-ac424e9ffab5",
   "metadata": {},
   "source": [
    "# Select Data Using .sel() and .isel()\n",
    "There are many techniques for selecting data from Xarray datasets and data arrays. Here we will cover the use of selecting data using dimension names and the `.sel()` and `.isel()` methods. \n",
    "\n",
    "*Note*: `.sel()` and `.isel()` work for datasets and data arrays."
   ]
  },
  {
   "cell_type": "markdown",
   "id": "a1e594b6-026e-41fa-8179-ba5bf019efbf",
   "metadata": {},
   "source": [
    "## Further Reading\n",
    "See the [Indexing and selecting data](https://docs.xarray.dev/en/stable/user-guide/indexing.html) page in Xarray documentation for further details about selecting data from datasets and data arrays. "
   ]
  }
 ],
 "metadata": {
  "kernelspec": {
   "display_name": "Python 3 (ipykernel)",
   "language": "python",
   "name": "python3"
  },
  "language_info": {
   "codemirror_mode": {
    "name": "ipython",
    "version": 3
   },
   "file_extension": ".py",
   "mimetype": "text/x-python",
   "name": "python",
   "nbconvert_exporter": "python",
   "pygments_lexer": "ipython3",
   "version": "3.12.0"
  }
 },
 "nbformat": 4,
 "nbformat_minor": 5
}
