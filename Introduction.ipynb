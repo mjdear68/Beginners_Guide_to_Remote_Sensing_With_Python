{
 "cells": [
  {
   "cell_type": "markdown",
   "id": "e82f8e9c-2272-4f57-86d4-275dc2445e0a",
   "metadata": {},
   "source": [
    "# Beginner's Guide to Remote Sensing with Python\n",
    "\n",
    "## Introduction\n",
    "These tutorials were developed after I completed a remote sensing project as a part of the Graduate Diploma in Science course with the University of New England. My intention at the start of the project was to use [QGIS](https://www.qgis.org/en/site/) as the main software. It soon became apparent that coding was more appropriate for the large time-series datasets with which I was working. Code also provides a record of the steps taken for future reference and efficient reuse. The data I was accessing from the [Digital Earth Australia (DEA)](https://www.dea.ga.gov.au/) data cube required me to begin learning Xarray and related Python libraries. Although I had some experience using the Pandas library from earlier data analysis projects, I was not a highly experienced Python programmer. Hence, I found myself on a very steep learning curve. Thanks to the excellent resources provided by the DEA and the Stack Exchange [Stack Overflow](https://stackoverflow.com/) and [GIS](https://gis.stackexchange.com/) communities, I was able to develop the skills necessary to complete my project. This series of tutorials has been designed for people who find themselves, as I did, with some coding and GIS experience, who need or want to approach remote sensing and spatial analysis from a coding perspective.\n",
    "\n",
    "Each tutorial is short and directed at completing a typical remote sensing task. The code is intended to be at a level accessible to people with minimal to intermediate Python experience. There are explanatory comments and references to further reading throughout each tutorial. I hope you find these tutorials beneficial to your remote sensing with Python journey.\n",
    "\n",
    "Michael Dear, <br> \n",
    "March 2024"
   ]
  },
  {
   "cell_type": "markdown",
   "id": "f33e0366-42bc-4e7e-b245-f68364a54afc",
   "metadata": {},
   "source": [
    "## Software\n",
    "These tutorials do not cover obtaining and installing the required software. There are many ways to obtain and install Python and its related libraries which is covered in detail elsewhere. Personally I have found installing libraries using the [pip](https://pip.pypa.io/en/stable/getting-started/) package manager to be an easy solution, although choosing a large distribution such as [Anaconda](https://www.anaconda.com/download) might be the best method if you are not experienced using command-line applications. \n",
    "\n",
    "The following software is required for these tutorials. These can be installed by following the instructions the software's documentation.\n",
    "1. [Python 3](https://www.python.org/downloads/)\n",
    "2. [Xarray](https://docs.xarray.dev/en/stable/index.html)\n",
    "3. [Matplotlib](https://matplotlib.org/stable/index.html)\n",
    "4. [GeoPandas](https://geopandas.org/en/stable/)\n",
    "5. [Pandas](https://pandas.pydata.org/docs/index.html)\n",
    "6. [Rioxarray](https://corteva.github.io/rioxarray/stable/)\n",
    "7. [Jupyter Lab](https://docs.jupyter.org/en/latest/)"
   ]
  },
  {
   "cell_type": "markdown",
   "id": "a2dc87c2-5f23-47c4-b1d9-d5b71c2a973d",
   "metadata": {},
   "source": [
    "## Suggested Learning Sequence\n",
    "Although the tutorials are designed to be standalone, the list below builds some of the core ideas and skills sequentially. If you find you get stuck completing a tutorial, it might be worth completing the tutorials that come before it in this list.\n",
    "\n",
    "### Raster Data - Xarray, Rioxarray\n",
    "1. [Read and Write a netCDF file](Read_and_Write_a_netCDF_File.ipynb)\n",
    "2. [Read and Write a geoTIFF file](Read_and_Write_a_GeoTIFF_File.ipynb)\n",
    "3. [Read a directory of geoTIFF files](Read_a_directory_of_geoTIFF_Files.ipynb)\n",
    "4. [Select Data Using .sel() and .isel](Select_Data_Using_sel()_and_isel().ipynb)\n",
    "5. [Create a Facetgrid Plot For a Single Band](Create_a_Facetgrid_Plot_For_a_Single_Band.ipynb)\n",
    "6. Plot an RGB Time Series (dataset)\n",
    "7. Plot a Region of Interest\n",
    "8. Resample Along the Time Dimension\n",
    "9. Resample Along the Spatial Dimensions\n",
    "10. [Calculate and Plot the (NDVI)](Calculate_Plot_NDVI.ipynb)\n",
    "\n",
    "### Vector Data - GeoPandas\n",
    "1. Read and Write a Shapefile\n",
    "2. Clip a Xarray data array using a polygon\n",
    "\n",
    "### Data Frames - Pandas\n",
    "1. Convert a data frame to a geoDataFrame\n",
    "2. Convert a Xarray data array to a data frame"
   ]
  }
 ],
 "metadata": {
  "kernelspec": {
   "display_name": "Python 3 (ipykernel)",
   "language": "python",
   "name": "python3"
  },
  "language_info": {
   "codemirror_mode": {
    "name": "ipython",
    "version": 3
   },
   "file_extension": ".py",
   "mimetype": "text/x-python",
   "name": "python",
   "nbconvert_exporter": "python",
   "pygments_lexer": "ipython3",
   "version": "3.12.0"
  }
 },
 "nbformat": 4,
 "nbformat_minor": 5
}
